{
 "cells": [
  {
   "cell_type": "markdown",
   "metadata": {},
   "source": [
    "# Interview questions parser from Glassdoor"
   ]
  },
  {
   "cell_type": "markdown",
   "metadata": {},
   "source": [
    "### Needed libraries are imported"
   ]
  },
  {
   "cell_type": "code",
   "execution_count": 1,
   "metadata": {
    "collapsed": true
   },
   "outputs": [],
   "source": [
    "from selenium import webdriver\n",
    "from time import sleep # To prevent overwhelming the server between connections\n",
    "from collections import Counter # Keep track of our term counts\n",
    "from nltk.corpus import stopwords # Filter out stopwords, such as 'the', 'or', 'and'\n",
    "import pandas as pd # For converting results to a dataframe and bar chart plots\n",
    "from selenium.webdriver.common import action_chains, keys\n",
    "from selenium.common.exceptions import NoSuchElementException\n",
    "import numpy as np\n",
    "import sys"
   ]
  },
  {
   "cell_type": "markdown",
   "metadata": {},
   "source": [
    "### Initializing glassdoor using chrome driver"
   ]
  },
  {
   "cell_type": "code",
   "execution_count": 2,
   "metadata": {
    "collapsed": true
   },
   "outputs": [],
   "source": [
    "def init_glassdoor():\n",
    "    chrome_options = webdriver.ChromeOptions()\n",
    "    driver = 'chromedriver'    \n",
    "    chrome_options.add_argument('--disable-extensions')\n",
    "    chrome_options.add_argument('--profile-directory=Default')\n",
    "    chrome_options.add_argument(\"--incognito\")\n",
    "    chrome_options.add_argument(\"--disable-plugins-discovery\")\n",
    "    chrome_options.add_argument(\"--start-maximized\")\n",
    "    browser = webdriver.Chrome(driver, chrome_options=chrome_options)\n",
    "\n",
    "    return browser"
   ]
  },
  {
   "cell_type": "markdown",
   "metadata": {},
   "source": [
    "### List of Helper functions"
   ]
  },
  {
   "cell_type": "code",
   "execution_count": 3,
   "metadata": {
    "collapsed": true
   },
   "outputs": [],
   "source": [
    "def paraser(url):\n",
    "    website = str(url)\n",
    "    browser.get(website)\n",
    "    questions()"
   ]
  },
  {
   "cell_type": "code",
   "execution_count": 4,
   "metadata": {
    "collapsed": true
   },
   "outputs": [],
   "source": [
    "def parlistfetch(parselist):\n",
    "    urls = browser.find_elements_by_class_name('page')\n",
    "    for j in urls:\n",
    "        val = j.find_elements_by_tag_name('a')\n",
    "        for k in val:\n",
    "            parselist.append(str(k.get_attribute('href')))\n",
    "    return (parselist,0)"
   ]
  },
  {
   "cell_type": "code",
   "execution_count": 5,
   "metadata": {
    "collapsed": true
   },
   "outputs": [],
   "source": [
    "def questions():\n",
    "    x = browser.find_elements_by_class_name(\"interviewQuestions\")\n",
    "    for i in x:\n",
    "        y = i.find_element_by_tag_name('span')\n",
    "        appen_file(y.text)"
   ]
  },
  {
   "cell_type": "code",
   "execution_count": 10,
   "metadata": {
    "collapsed": true
   },
   "outputs": [],
   "source": [
    "def write_file(path):\n",
    "    with open(path,'w',newline='') as file:\n",
    "        file.write(\"hello\" + '\\n')\n",
    "\n",
    "def appen_file(conten):\n",
    "    with open(path,'a',newline='') as file:\n",
    "            file.write(conten+ '\\n')\n",
    "\n",
    "\n",
    "path = \"C:/Users/gokul/Documents/Projects/Resume_Parsing/output.txt\"\n",
    "write_file(path)"
   ]
  },
  {
   "cell_type": "markdown",
   "metadata": {},
   "source": [
    "## Main driving function"
   ]
  },
  {
   "cell_type": "code",
   "execution_count": 12,
   "metadata": {},
   "outputs": [],
   "source": [
    "browser = init_glassdoor()\n",
    "initial_url = \"https://www.glassdoor.com/Interview/State-Street-Intern-Interview-Questions-EI_IE1911.0,12_KO13,19.htm\"\n",
    "paraser(initial_url)\n",
    "parselist = []\n",
    "parselist,count = parlistfetch(parselist)"
   ]
  },
  {
   "cell_type": "markdown",
   "metadata": {},
   "source": [
    "## Iterating through 10 pages to get all questions"
   ]
  },
  {
   "cell_type": "code",
   "execution_count": 13,
   "metadata": {},
   "outputs": [],
   "source": [
    "page =1\n",
    "for m in range(10):\n",
    "    #print(\"#############\", page,\"#############\")\n",
    "    page += 1\n",
    "    count += 1\n",
    "    paraser(parselist[m])\n",
    "    if(count ==4):\n",
    "        #print(\"hello\")\n",
    "        parselist,count = parlistfetch(parselist)"
   ]
  },
  {
   "cell_type": "markdown",
   "metadata": {},
   "source": [
    "### Output is stored in \"output.txt\" file"
   ]
  }
 ],
 "metadata": {
  "kernelspec": {
   "display_name": "Python 3",
   "language": "python",
   "name": "python3"
  },
  "language_info": {
   "codemirror_mode": {
    "name": "ipython",
    "version": 3
   },
   "file_extension": ".py",
   "mimetype": "text/x-python",
   "name": "python",
   "nbconvert_exporter": "python",
   "pygments_lexer": "ipython3",
   "version": "3.6.3"
  }
 },
 "nbformat": 4,
 "nbformat_minor": 2
}
